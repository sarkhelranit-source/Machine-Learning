{
  "cells": [
    {
      "cell_type": "code",
      "execution_count": 3,
      "metadata": {
        "id": "ctzvO1l5_8zU"
      },
      "outputs": [],
      "source": [
        "# Introduction to Tensors"
      ]
    },
    {
      "cell_type": "code",
      "execution_count": 4,
      "metadata": {
        "id": "C_LI_dW6vLIl"
      },
      "outputs": [],
      "source": [
        "%pip install -q sklearn"
      ]
    },
    {
      "cell_type": "code",
      "execution_count": 5,
      "metadata": {
        "colab": {
          "base_uri": "https://localhost:8080/"
        },
        "id": "JwRlLh7_FAdL",
        "outputId": "9662e041-c7b6-44bd-9c7c-447ef8b84ac5"
      },
      "outputs": [
        {
          "name": "stdout",
          "output_type": "stream",
          "text": [
            "Colab only includes TensorFlow 2.x; %tensorflow_version has no effect.\n"
          ]
        }
      ],
      "source": [
        "%tensorflow_version 2.x"
      ]
    },
    {
      "cell_type": "code",
      "execution_count": 73,
      "metadata": {
        "colab": {
          "base_uri": "https://localhost:8080/"
        },
        "id": "TkH7J7J_FF-f",
        "outputId": "07a307ed-9f90-43a5-fb9e-c500edb8eaad"
      },
      "outputs": [
        {
          "name": "stdout",
          "output_type": "stream",
          "text": [
            "2.8.2\n"
          ]
        }
      ],
      "source": [
        "# Import tensorflow\n",
        "import tensorflow as tf\n",
        "print(tf.__version__)"
      ]
    },
    {
      "cell_type": "markdown",
      "metadata": {
        "id": "QaM_tdAXHp_k"
      },
      "source": [
        "## Creating tensors with `tf.constant`\n"
      ]
    },
    {
      "cell_type": "code",
      "execution_count": 7,
      "metadata": {
        "colab": {
          "base_uri": "https://localhost:8080/"
        },
        "id": "S1VOZRPBAg61",
        "outputId": "a8e56f25-2a50-4a70-bb81-ecc5fe71d77f"
      },
      "outputs": [
        {
          "name": "stdout",
          "output_type": "stream",
          "text": [
            "tf.Tensor(5, shape=(), dtype=int32)\n"
          ]
        }
      ],
      "source": [
        "scalar = tf.constant(5)\n",
        "print(scalar)"
      ]
    },
    {
      "cell_type": "code",
      "execution_count": 8,
      "metadata": {
        "colab": {
          "base_uri": "https://localhost:8080/"
        },
        "id": "Wci5Vy2bBFHg",
        "outputId": "df57ae46-cd00-4a89-fbb9-975a36f3d2a8"
      },
      "outputs": [
        {
          "data": {
            "text/plain": [
              "0"
            ]
          },
          "execution_count": 8,
          "metadata": {},
          "output_type": "execute_result"
        }
      ],
      "source": [
        "# Check the number of dimensions of a tensor (ndim stands for number of dimensions)\n",
        "scalar.ndim"
      ]
    },
    {
      "cell_type": "code",
      "execution_count": 9,
      "metadata": {
        "colab": {
          "base_uri": "https://localhost:8080/"
        },
        "id": "33SmJfBtBXTi",
        "outputId": "d06aaf19-3780-4740-cfce-dd89a8076d19"
      },
      "outputs": [
        {
          "data": {
            "text/plain": [
              "<tf.Tensor: shape=(2,), dtype=int32, numpy=array([10, 10], dtype=int32)>"
            ]
          },
          "execution_count": 9,
          "metadata": {},
          "output_type": "execute_result"
        }
      ],
      "source": [
        "# Creating a vector\n",
        "vector = tf.constant([10, 10])\n",
        "vector"
      ]
    },
    {
      "cell_type": "code",
      "execution_count": 10,
      "metadata": {
        "colab": {
          "base_uri": "https://localhost:8080/"
        },
        "id": "nHO7VjSWCWG7",
        "outputId": "c68d9911-08a3-4859-8cf2-5334d851b2df"
      },
      "outputs": [
        {
          "data": {
            "text/plain": [
              "1"
            ]
          },
          "execution_count": 10,
          "metadata": {},
          "output_type": "execute_result"
        }
      ],
      "source": [
        "# Checking the domension of the vector\n",
        "vector.ndim"
      ]
    },
    {
      "cell_type": "code",
      "execution_count": 11,
      "metadata": {
        "colab": {
          "base_uri": "https://localhost:8080/"
        },
        "id": "PckKsaxSCkTc",
        "outputId": "7d75b42c-1d8b-4d20-a410-474f011f71df"
      },
      "outputs": [
        {
          "data": {
            "text/plain": [
              "<tf.Tensor: shape=(2, 0), dtype=float32, numpy=array([], shape=(2, 0), dtype=float32)>"
            ]
          },
          "execution_count": 11,
          "metadata": {},
          "output_type": "execute_result"
        }
      ],
      "source": [
        "# Create a matrix\n",
        "matrix = tf.constant([[], []])\n",
        "matrix"
      ]
    },
    {
      "cell_type": "code",
      "execution_count": 12,
      "metadata": {
        "colab": {
          "base_uri": "https://localhost:8080/"
        },
        "id": "H0yGxqC3C1Mt",
        "outputId": "d97ce35b-c8da-47a9-9225-c6a0af1ff06c"
      },
      "outputs": [
        {
          "data": {
            "text/plain": [
              "2"
            ]
          },
          "execution_count": 12,
          "metadata": {},
          "output_type": "execute_result"
        }
      ],
      "source": [
        "# Checkig the dimensions of the matrix\n",
        "matrix.ndim"
      ]
    },
    {
      "cell_type": "code",
      "execution_count": 13,
      "metadata": {
        "colab": {
          "base_uri": "https://localhost:8080/"
        },
        "id": "CaNsrH2_FHP7",
        "outputId": "047e790c-ceb2-4fdd-e1ee-efd232e3a512"
      },
      "outputs": [
        {
          "data": {
            "text/plain": [
              "<tf.Tensor: shape=(3, 2), dtype=float16, numpy=\n",
              "array([[10.,  7.],\n",
              "       [ 3.,  2.],\n",
              "       [ 8.,  5.]], dtype=float16)>"
            ]
          },
          "execution_count": 13,
          "metadata": {},
          "output_type": "execute_result"
        }
      ],
      "source": [
        "another_matrix = tf.constant([[10., 7.], [3., 2.], [8., 5.]], dtype=tf.float16)\n",
        "another_matrix"
      ]
    },
    {
      "cell_type": "markdown",
      "metadata": {
        "id": "dIObOzX6HFrE"
      },
      "source": [
        "## Creating tensors with ```tf.Variable```"
      ]
    },
    {
      "cell_type": "code",
      "execution_count": 14,
      "metadata": {
        "colab": {
          "base_uri": "https://localhost:8080/"
        },
        "id": "pVmOV7JEHiMB",
        "outputId": "ee736907-7235-4a6e-b0dd-ad7e3664685c"
      },
      "outputs": [
        {
          "data": {
            "text/plain": [
              "tensorflow.python.ops.variables.Variable"
            ]
          },
          "execution_count": 14,
          "metadata": {},
          "output_type": "execute_result"
        }
      ],
      "source": [
        "tf.Variable"
      ]
    },
    {
      "cell_type": "code",
      "execution_count": 15,
      "metadata": {
        "colab": {
          "base_uri": "https://localhost:8080/"
        },
        "id": "5ty5qmw_IzLh",
        "outputId": "44c15b1b-63b5-4f4e-94cc-346690fc9a65"
      },
      "outputs": [
        {
          "data": {
            "text/plain": [
              "<tf.Variable 'UnreadVariable' shape=(3, 2) dtype=int32, numpy=\n",
              "array([[10,  6],\n",
              "       [23, 21],\n",
              "       [ 3, 88]], dtype=int32)>"
            ]
          },
          "execution_count": 15,
          "metadata": {},
          "output_type": "execute_result"
        }
      ],
      "source": [
        "changeble_vector = tf.Variable([[10, 3], [23, 21], [3, 88]])\n",
        "changeble_vector[0, 1].assign(6)"
      ]
    },
    {
      "cell_type": "markdown",
      "metadata": {
        "id": "3d2s-OXCL6SA"
      },
      "source": [
        "## Creating random tensors\n",
        "\n",
        "Random tensors are tensors of some arbitrary size which contain random numbers"
      ]
    },
    {
      "cell_type": "code",
      "execution_count": 16,
      "metadata": {
        "colab": {
          "base_uri": "https://localhost:8080/"
        },
        "id": "NKJ51kabMIZ_",
        "outputId": "11140734-2fa6-4837-a1c7-8ce1e8afcedc"
      },
      "outputs": [
        {
          "name": "stdout",
          "output_type": "stream",
          "text": [
            "tf.Tensor(\n",
            "[[ True  True]\n",
            " [ True  True]\n",
            " [ True  True]], shape=(3, 2), dtype=bool)\n"
          ]
        }
      ],
      "source": [
        "# Creating random tensors\n",
        "random_1 = tf.random.Generator.from_seed(10) # set seed for reproducibility\n",
        "random_1 = random_1.normal(shape=(3, 2))\n",
        "random_2 = tf.random.Generator.from_seed(10)\n",
        "random_2 = random_2.normal(shape=(3, 2))\n",
        "\n",
        "# Are they equal??\n",
        "print(random_1 == random_2)\n"
      ]
    },
    {
      "cell_type": "markdown",
      "metadata": {
        "id": "nxfVJFQjQEsR"
      },
      "source": [
        "## Shuffle the order of a Tensor"
      ]
    },
    {
      "cell_type": "code",
      "execution_count": 17,
      "metadata": {
        "colab": {
          "base_uri": "https://localhost:8080/"
        },
        "id": "cG6lL-QpQUV0",
        "outputId": "d2727684-ab90-4ecf-f864-0838f71e2d57"
      },
      "outputs": [
        {
          "data": {
            "text/plain": [
              "<tf.Tensor: shape=(3, 2), dtype=int32, numpy=\n",
              "array([[10,  5],\n",
              "       [ 2, 56],\n",
              "       [ 3,  6]], dtype=int32)>"
            ]
          },
          "execution_count": 17,
          "metadata": {},
          "output_type": "execute_result"
        }
      ],
      "source": [
        "# shuffle a tensor\n",
        "ns = tf.constant([[10, 5], [3, 6], [2, 56]])\n",
        "tf.random.set_seed(10) # global level random seed\n",
        "tf.random.shuffle(ns)\n"
      ]
    },
    {
      "cell_type": "markdown",
      "metadata": {
        "id": "Uuu24ZlNUC3B"
      },
      "source": [
        "⚔ **Exercise :** Read through the Tensorflow Documentation on random seed generation: https://www.tensorflow.org/api_docs/python/tf/random/set_seed and practice writing 5 random tensors and shuffle them. "
      ]
    },
    {
      "cell_type": "markdown",
      "metadata": {
        "id": "lvpHF9-EW2yA"
      },
      "source": [
        "## Other ways of making a tensor"
      ]
    },
    {
      "cell_type": "code",
      "execution_count": 18,
      "metadata": {
        "colab": {
          "base_uri": "https://localhost:8080/"
        },
        "id": "rJyOoLunW58b",
        "outputId": "8a6f327e-ec76-4247-e404-612fd690a24e"
      },
      "outputs": [
        {
          "data": {
            "text/plain": [
              "<tf.Tensor: shape=(2, 2, 6), dtype=int16, numpy=\n",
              "array([[[ 1,  2,  3,  4,  5,  6],\n",
              "        [ 7,  8,  9, 10, 11, 12]],\n",
              "\n",
              "       [[13, 14, 15, 16, 17, 18],\n",
              "        [19, 20, 21, 22, 23, 24]]], dtype=int16)>"
            ]
          },
          "execution_count": 18,
          "metadata": {},
          "output_type": "execute_result"
        }
      ],
      "source": [
        "# tf.ones([3, 4], tf.float16)\n",
        "import numpy as np\n",
        "numpy_a = [np.arange(1, 25, dtype=np.int32)]\n",
        "numpy_a\n",
        "\n",
        "A = tf.constant(numpy_a, shape=(2, 2, 6), dtype=tf.int16, name=\"const\")\n",
        "A"
      ]
    },
    {
      "cell_type": "markdown",
      "metadata": {
        "id": "xRQNVq0dbS4S"
      },
      "source": [
        "## Getting information from tensors"
      ]
    },
    {
      "cell_type": "code",
      "execution_count": 19,
      "metadata": {
        "colab": {
          "base_uri": "https://localhost:8080/"
        },
        "id": "gk8Yo9rDbXRr",
        "outputId": "eb2ecff4-ce65-4cec-869e-371c2bdc95a9"
      },
      "outputs": [
        {
          "data": {
            "text/plain": [
              "(TensorShape([2, 3, 4, 5]), 4, <tf.Tensor: shape=(), dtype=int32, numpy=120>)"
            ]
          },
          "execution_count": 19,
          "metadata": {},
          "output_type": "execute_result"
        }
      ],
      "source": [
        "# Creating a rank 4 tensor\n",
        "rank_4 = tf.zeros(shape=[2, 3, 4, 5])\n",
        "rank_4.shape, rank_4.ndim, tf.size(rank_4)"
      ]
    },
    {
      "cell_type": "code",
      "execution_count": 20,
      "metadata": {
        "colab": {
          "base_uri": "https://localhost:8080/"
        },
        "id": "szFgO-jmfSol",
        "outputId": "da5b68ee-4151-40b6-e7a4-4a571f20cc2d"
      },
      "outputs": [
        {
          "name": "stdout",
          "output_type": "stream",
          "text": [
            "Datatypes of every elements: <dtype: 'float32'>\n",
            "Number of dimensions (rank): 4\n",
            "Shape of a tensor: (2, 3, 4, 5)\n",
            "Elements along the 0 axis: 2\n",
            "Elements along the last axis: 5\n",
            "Total number of elements in our tensor: 120\n"
          ]
        }
      ],
      "source": [
        "# Get various attributes of our tensor\n",
        "print(f\"Datatypes of every elements: {rank_4.dtype}\")\n",
        "print(f\"Number of dimensions (rank): {rank_4.ndim}\")\n",
        "print(f\"Shape of a tensor: {rank_4.shape}\")\n",
        "print(f\"Elements along the 0 axis: {rank_4.shape[0]}\")\n",
        "print(f\"Elements along the last axis: {rank_4.shape[-1]}\")\n",
        "print(f\"Total number of elements in our tensor: {tf.size(rank_4)}\")"
      ]
    },
    {
      "cell_type": "markdown",
      "metadata": {
        "id": "-pirmeL7jFe8"
      },
      "source": [
        "## Indexing tensors\n",
        "Tensors can be indexed just like Python Lists"
      ]
    },
    {
      "cell_type": "code",
      "execution_count": 21,
      "metadata": {
        "colab": {
          "base_uri": "https://localhost:8080/"
        },
        "id": "LbRWDMwqjURd",
        "outputId": "fcccee94-2c15-4db5-dc35-8d269ff80622"
      },
      "outputs": [
        {
          "data": {
            "text/plain": [
              "<tf.Tensor: shape=(2, 2, 2, 2), dtype=float32, numpy=\n",
              "array([[[[0., 0.],\n",
              "         [0., 0.]],\n",
              "\n",
              "        [[0., 0.],\n",
              "         [0., 0.]]],\n",
              "\n",
              "\n",
              "       [[[0., 0.],\n",
              "         [0., 0.]],\n",
              "\n",
              "        [[0., 0.],\n",
              "         [0., 0.]]]], dtype=float32)>"
            ]
          },
          "execution_count": 21,
          "metadata": {},
          "output_type": "execute_result"
        }
      ],
      "source": [
        "# Get the first 2 elements of each dimension\n",
        "rank_4[:2, :2, :2, :2]"
      ]
    },
    {
      "cell_type": "code",
      "execution_count": 22,
      "metadata": {
        "colab": {
          "base_uri": "https://localhost:8080/"
        },
        "id": "N1_OSNOpox4T",
        "outputId": "959a79e4-a01b-4be4-b99c-62c49b8fee7a"
      },
      "outputs": [
        {
          "data": {
            "text/plain": [
              "<tf.Tensor: shape=(1, 2, 2), dtype=int32, numpy=\n",
              "array([[[10,  7],\n",
              "        [ 3,  4]]], dtype=int32)>"
            ]
          },
          "execution_count": 22,
          "metadata": {},
          "output_type": "execute_result"
        }
      ],
      "source": [
        "rank_2_tensor = [[10, 7], [3, 4]]\n",
        "rank_2_tensor\n",
        "\n",
        "# Add in extra dimension to our rank 2 tensor\n",
        "rank_3 = tf.expand_dims(rank_2_tensor, axis=0)\n",
        "tf.shape(rank_3)\n",
        "rank_3\n"
      ]
    },
    {
      "cell_type": "markdown",
      "metadata": {
        "id": "OO-xl4R9-pRf"
      },
      "source": [
        "## Manipulating tensors (tensor operations)"
      ]
    },
    {
      "cell_type": "code",
      "execution_count": 23,
      "metadata": {
        "colab": {
          "base_uri": "https://localhost:8080/"
        },
        "id": "2sznYvtq-xi2",
        "outputId": "db6dec09-97e0-48b3-be0e-2795ac43af82"
      },
      "outputs": [
        {
          "data": {
            "text/plain": [
              "<tf.Tensor: shape=(2, 2), dtype=int32, numpy=\n",
              "array([[20, 17],\n",
              "       [13, 14]], dtype=int32)>"
            ]
          },
          "execution_count": 23,
          "metadata": {},
          "output_type": "execute_result"
        }
      ],
      "source": [
        "# adding values to a tensor using the addition operator\n",
        "tensor = tf.constant([[10, 7], [3, 4]])\n",
        "tensor + 10"
      ]
    },
    {
      "cell_type": "code",
      "execution_count": 24,
      "metadata": {
        "colab": {
          "base_uri": "https://localhost:8080/"
        },
        "id": "H1zWzS7z_zJb",
        "outputId": "0533da5c-e2fc-4bb4-de74-1654e486738d"
      },
      "outputs": [
        {
          "data": {
            "text/plain": [
              "<tf.Tensor: shape=(2,), dtype=int32, numpy=array([7, 3], dtype=int32)>"
            ]
          },
          "execution_count": 24,
          "metadata": {},
          "output_type": "execute_result"
        }
      ],
      "source": [
        "add = tensor[0] - tensor[1]\n",
        "add"
      ]
    },
    {
      "cell_type": "code",
      "execution_count": 25,
      "metadata": {
        "colab": {
          "base_uri": "https://localhost:8080/"
        },
        "id": "YUUijhPJA1PX",
        "outputId": "f6594f81-fa6c-4fc4-8635-f5ab9c2d3966"
      },
      "outputs": [
        {
          "data": {
            "text/plain": [
              "<tf.Tensor: shape=(2,), dtype=int32, numpy=array([30, 28], dtype=int32)>"
            ]
          },
          "execution_count": 25,
          "metadata": {},
          "output_type": "execute_result"
        }
      ],
      "source": [
        "# Using the tensorflow built-in function\n",
        "tf.multiply(tensor[0], tensor[1])"
      ]
    },
    {
      "cell_type": "markdown",
      "metadata": {
        "id": "gLB6aXYhB7E9"
      },
      "source": [
        "**Matrix Multiplication**\n",
        "\n",
        "In machine learning matrix multiplication is one of the most commonly used tensor operations\n",
        "\n",
        "There are two rules our tensors (or matrices) need to fulfill if we're going to matrix multiply them:\n",
        "\n",
        "1. The inner dimensions must match\n",
        "2. The resulting matrix has the shape of the outer dimensions"
      ]
    },
    {
      "cell_type": "code",
      "execution_count": 26,
      "metadata": {
        "colab": {
          "base_uri": "https://localhost:8080/"
        },
        "id": "LG0CPUHXCMjl",
        "outputId": "2d8d4ec9-cb4a-425a-9a0a-41ba86fc13d5"
      },
      "outputs": [
        {
          "data": {
            "text/plain": [
              "<tf.Tensor: shape=(2, 2), dtype=int32, numpy=\n",
              "array([[121,  98],\n",
              "       [ 42,  37]], dtype=int32)>"
            ]
          },
          "execution_count": 26,
          "metadata": {},
          "output_type": "execute_result"
        }
      ],
      "source": [
        "# matrix multiplication in tensorflow\n",
        "tensor\n",
        "tf.matmul(tensor, tensor)"
      ]
    },
    {
      "cell_type": "code",
      "execution_count": 27,
      "metadata": {
        "colab": {
          "base_uri": "https://localhost:8080/"
        },
        "id": "RFs_goVaQU_e",
        "outputId": "42b80dea-d230-4347-9b01-c990754588a8"
      },
      "outputs": [
        {
          "data": {
            "text/plain": [
              "<tf.Tensor: shape=(2, 3), dtype=int32, numpy=\n",
              "array([[2, 6, 1],\n",
              "       [5, 7, 8]], dtype=int32)>"
            ]
          },
          "execution_count": 27,
          "metadata": {},
          "output_type": "execute_result"
        }
      ],
      "source": [
        "t1 = tf.constant([[1, 2], [0, 1], [2, 3]])\n",
        "t2 = tf.constant([[2, 5], [6, 7], [1, 8]])\n",
        "t3 = tf.transpose(t2)\n",
        "t3"
      ]
    },
    {
      "cell_type": "code",
      "execution_count": 28,
      "metadata": {
        "colab": {
          "base_uri": "https://localhost:8080/"
        },
        "id": "IO17tVy21q82",
        "outputId": "b9ad7310-5987-4dc3-ff7b-e3954540df62"
      },
      "outputs": [
        {
          "data": {
            "text/plain": [
              "<tf.Tensor: shape=(2, 3), dtype=int32, numpy=\n",
              "array([[2, 5, 6],\n",
              "       [7, 1, 8]], dtype=int32)>"
            ]
          },
          "execution_count": 28,
          "metadata": {},
          "output_type": "execute_result"
        }
      ],
      "source": [
        "t1 = tf.constant([[1, 2], [0, 1], [2, 3]])\n",
        "t2 = tf.constant([[2, 5], [6, 7], [1, 8]])\n",
        "t3 = tf.reshape(t2, [2, 3])\n",
        "t3"
      ]
    },
    {
      "cell_type": "markdown",
      "metadata": {
        "id": "lVEVbda_slkM"
      },
      "source": [
        "Generally, when performing matrix multiplication on two tensors and one of the axes dosen't line up, you will transpose rather than reshape one of the tensors to satisfy the matrix multiplication rules."
      ]
    },
    {
      "cell_type": "markdown",
      "metadata": {
        "id": "SM7m5Kb-tnBu"
      },
      "source": [
        "## Changing the dtype of a tensor"
      ]
    },
    {
      "cell_type": "code",
      "execution_count": 29,
      "metadata": {
        "colab": {
          "base_uri": "https://localhost:8080/"
        },
        "id": "cg46Ca_UtrcD",
        "outputId": "24e4b9ad-692f-45bd-a560-15fbe0639bd5"
      },
      "outputs": [
        {
          "data": {
            "text/plain": [
              "<tf.Tensor: shape=(2,), dtype=float16, numpy=array([1.3, 4.6], dtype=float16)>"
            ]
          },
          "execution_count": 29,
          "metadata": {},
          "output_type": "execute_result"
        }
      ],
      "source": [
        "# Create a new tensor with default datatype (float32)\n",
        "b = tf.constant([1.3, 4.6])\n",
        "b.dtype\n",
        "\n",
        "# Change from float32 to float16(reduced precision)\n",
        "b = tf.cast(b, dtype=tf.float16)\n",
        "b"
      ]
    },
    {
      "cell_type": "code",
      "execution_count": null,
      "metadata": {
        "id": "8013w7_ZvjkU"
      },
      "outputs": [],
      "source": [
        "e = tf.constant([1, 4, 6])\n",
        "f = tf.cast(e, dtype=tf.float16)\n",
        "f"
      ]
    },
    {
      "cell_type": "markdown",
      "metadata": {
        "id": "NILmIzxOwZRH"
      },
      "source": [
        "## Aggregating tensors\n",
        "\n",
        "Aggregating tensors = condensing them from multiple values down to a smaller amount of values"
      ]
    },
    {
      "cell_type": "code",
      "execution_count": null,
      "metadata": {
        "id": "sATbqP8Ewjhr"
      },
      "outputs": [],
      "source": [
        "# Get the absolute values\n",
        "d = tf.constant([-7, -10])\n",
        "tf.abs(d)"
      ]
    },
    {
      "cell_type": "markdown",
      "metadata": {
        "id": "hfBY-n2SxaNm"
      },
      "source": [
        "### Operation on aggregation\n",
        "1. Get the minimum\n",
        "2. Get the maximum\n",
        "3. Get the sum of a tensor\n",
        "4. Get the mean of a tensor"
      ]
    },
    {
      "cell_type": "code",
      "execution_count": null,
      "metadata": {
        "id": "eVAmS7m0xpeg"
      },
      "outputs": [],
      "source": [
        "# Creating a random tensor with values between 0 and 100 of size 50\n",
        "e = tf.constant(tf.random.uniform([50], 0, 100, tf.dtypes.float16))\n",
        "e"
      ]
    },
    {
      "cell_type": "code",
      "execution_count": null,
      "metadata": {
        "id": "DXt0aCrGzlCP"
      },
      "outputs": [],
      "source": [
        "# Find the minimum\n",
        "m = tf.reduce_min(e)\n",
        "\n",
        "# Find the maximum\n",
        "M = tf.reduce_max(e)\n",
        "\n",
        "# Find the mean\n",
        "mean = tf.reduce_mean(e)\n",
        "\n",
        "# Find the sum\n",
        "s = tf.reduce_sum(e)\n",
        "\n",
        "print(m, M, mean, s)"
      ]
    },
    {
      "cell_type": "markdown",
      "metadata": {
        "id": "bVnXNJie2tjQ"
      },
      "source": [
        "🛠 **Exercise:** Find the variance and the standard daviation of the tensor `e`"
      ]
    },
    {
      "cell_type": "code",
      "execution_count": null,
      "metadata": {
        "id": "NvoNAcdw82sA"
      },
      "outputs": [],
      "source": [
        "# Find the varinace\n",
        "variance = tf.math.reduce_variance(e)\n",
        "\n",
        "# Find the standard deviation\n",
        "std_dev = tf.math.reduce_std(e)\n",
        "\n",
        "print(variance, std_dev)"
      ]
    },
    {
      "cell_type": "markdown",
      "metadata": {
        "id": "Js6pIBw8w5UK"
      },
      "source": [
        "## Find the positional maximum and minimum\n"
      ]
    },
    {
      "cell_type": "code",
      "execution_count": null,
      "metadata": {
        "id": "tSj56a-Yw_Kp"
      },
      "outputs": [],
      "source": [
        "# Create a new tensor forfinding positional minimum and maximum\n",
        "tf.random.set_seed(42)\n",
        "f = tf.random.uniform([17, 3], dtype=tf.dtypes.float16)\n",
        "f"
      ]
    },
    {
      "cell_type": "code",
      "execution_count": null,
      "metadata": {
        "id": "oP3HCjUczZ_9"
      },
      "outputs": [],
      "source": [
        "i = tf.math.argmax(f)\n",
        "i_m = tf.math.argmin(f)\n",
        "m = tf.reduce_max(f)\n",
        "\n",
        "print(i, m, i_m)"
      ]
    },
    {
      "cell_type": "markdown",
      "metadata": {
        "id": "wMh3IHIx4xSA"
      },
      "source": [
        "## Squeezing a tensor (removing all single dimensions)"
      ]
    },
    {
      "cell_type": "code",
      "execution_count": null,
      "metadata": {
        "id": "HaltOIlq47Aq"
      },
      "outputs": [],
      "source": [
        "# Create a tensor to get started\n",
        "tf.random.set_seed(42)\n",
        "g = tf.constant(tf.random.uniform([50]), shape=(1, 1, 1, 1, 50))\n",
        "g"
      ]
    },
    {
      "cell_type": "code",
      "execution_count": null,
      "metadata": {
        "id": "h9ALIFal5496"
      },
      "outputs": [],
      "source": [
        "g_squeezed = tf.squeeze(g)\n",
        "g_squeezed"
      ]
    },
    {
      "cell_type": "markdown",
      "metadata": {
        "id": "bnrlDutz73Do"
      },
      "source": [
        "## One-Hot encoding tensors"
      ]
    },
    {
      "cell_type": "code",
      "execution_count": null,
      "metadata": {
        "id": "OjMkbS_g7_4G"
      },
      "outputs": [],
      "source": [
        "# Create a list of indices\n",
        "some_list = [0, 1, 2, 3]\n",
        "\n",
        "# one hot encode\n",
        "tf.one_hot(some_list, 4, on_value=5, off_value=0)"
      ]
    },
    {
      "cell_type": "markdown",
      "metadata": {
        "id": "cogvfKXqAGyO"
      },
      "source": [
        "## Squaring, log, Square Root"
      ]
    },
    {
      "cell_type": "code",
      "execution_count": null,
      "metadata": {
        "id": "s9qixpGgAOBR"
      },
      "outputs": [],
      "source": [
        "tf.math.log(tf.cast(some_list, dtype=tf.float16))"
      ]
    },
    {
      "cell_type": "markdown",
      "metadata": {
        "id": "FkX1oudFA8EZ"
      },
      "source": [
        "## Tensors and Numpy\n",
        "\n",
        "Tensorflow interacts beautifully with numpy ARRAYS"
      ]
    },
    {
      "cell_type": "code",
      "execution_count": null,
      "metadata": {
        "id": "AlmCQ9X1A_og"
      },
      "outputs": [],
      "source": [
        "# create a tensor directly from a numpy array\n",
        "j = tf.constant(np.array([3, 7, 10]))\n",
        "j"
      ]
    },
    {
      "cell_type": "code",
      "execution_count": null,
      "metadata": {
        "id": "wnNRcGdZCaEs"
      },
      "outputs": [],
      "source": [
        "# Convert out a tensor to a numpy array\n",
        "np.array(j), type(np.array(j))"
      ]
    }
  ],
  "metadata": {
    "colab": {
      "collapsed_sections": [],
      "name": "Tensorflow-Intro.ipynb",
      "provenance": []
    },
    "kernelspec": {
      "display_name": "Python 3.10.1 64-bit",
      "language": "python",
      "name": "python3"
    },
    "language_info": {
      "name": "python",
      "version": "3.10.1"
    },
    "vscode": {
      "interpreter": {
        "hash": "9d5a1ced3a8aacfbfaf550a502c15ba96261cc41be45c758a11f8b6c84637eb5"
      }
    }
  },
  "nbformat": 4,
  "nbformat_minor": 0
}
